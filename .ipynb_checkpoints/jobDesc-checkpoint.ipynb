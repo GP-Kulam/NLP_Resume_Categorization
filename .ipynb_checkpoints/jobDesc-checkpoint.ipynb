{
 "cells": [
  {
   "cell_type": "code",
   "execution_count": 1,
   "metadata": {},
   "outputs": [
    {
     "name": "stdout",
     "output_type": "stream",
     "text": [
      "       Category                                             Resume\n",
      "0  Data Science  Skills * Programming Languages: Python (pandas...\n",
      "1  Data Science  Education Details \\r\\nMay 2013 to May 2017 B.E...\n",
      "2  Data Science  Areas of Interest Deep Learning, Control Syste...\n",
      "3  Data Science  Skills â¢ R â¢ Python â¢ SAP HANA â¢ Table...\n",
      "4  Data Science  Education Details \\r\\n MCA   YMCAUST,  Faridab...\n"
     ]
    }
   ],
   "source": [
    "\n",
    "import numpy as np\n",
    "import pandas as pd\n",
    "import os\n",
    "import nltk\n",
    "data = pd.read_csv('UpdatedResumeDataSet.csv')\n",
    "data = pd.DataFrame(data)\n",
    "print(data.head())        "
   ]
  },
  {
   "cell_type": "code",
   "execution_count": null,
   "metadata": {},
   "outputs": [],
   "source": []
  },
  {
   "cell_type": "code",
   "execution_count": 15,
   "metadata": {},
   "outputs": [
    {
     "name": "stdout",
     "output_type": "stream",
     "text": [
      "['Data Science' 'HR' 'Advocate' 'Arts' 'Web Designing'\n",
      " 'Mechanical Engineer' 'Sales' 'Health and fitness' 'Civil Engineer'\n",
      " 'Java Developer' 'Business Analyst' 'SAP Developer' 'Automation Testing'\n",
      " 'Electrical Engineering' 'Operations Manager' 'Python Developer'\n",
      " 'DevOps Engineer' 'Network Security Engineer' 'PMO' 'Database' 'Hadoop'\n",
      " 'ETL Developer' 'DotNet Developer' 'Blockchain' 'Testing']\n",
      "\n",
      "Number of datapoints in each categories\n",
      "Java Developer               84\n",
      "Testing                      70\n",
      "DevOps Engineer              55\n",
      "Python Developer             48\n",
      "Web Designing                45\n",
      "HR                           44\n",
      "Hadoop                       42\n",
      "Data Science                 40\n",
      "Sales                        40\n",
      "Blockchain                   40\n",
      "ETL Developer                40\n",
      "Mechanical Engineer          40\n",
      "Operations Manager           40\n",
      "Arts                         36\n",
      "Database                     33\n",
      "PMO                          30\n",
      "Health and fitness           30\n",
      "Electrical Engineering       30\n",
      "Business Analyst             28\n",
      "DotNet Developer             28\n",
      "Automation Testing           26\n",
      "Network Security Engineer    25\n",
      "SAP Developer                24\n",
      "Civil Engineer               24\n",
      "Advocate                     20\n",
      "Name: Category, dtype: int64\n"
     ]
    }
   ],
   "source": [
    "print (data['Category'].unique())\n",
    "print(\"\")\n",
    "print(\"Number of datapoints in each categories\")\n",
    "print(data['Category'].value_counts())"
   ]
  },
  {
   "cell_type": "code",
   "execution_count": 16,
   "metadata": {},
   "outputs": [
    {
     "data": {
      "text/plain": [
       "<AxesSubplot:>"
      ]
     },
     "execution_count": 16,
     "metadata": {},
     "output_type": "execute_result"
    },
    {
     "data": {
      "image/png": "[encoded data removed]",
      "text/plain": [
       "<Figure size 432x288 with 1 Axes>"
      ]
     },
     "metadata": {
      "needs_background": "light"
     },
     "output_type": "display_data"
    }
   ],
   "source": [
    "#Visualization of various categories\n",
    "data['Category'].value_counts(sort=True).nlargest(25).plot.bar()"
   ]
  },
  {
   "cell_type": "markdown",
   "metadata": {},
   "source": [
    "testResume = str(testResume)\n",
    "print(testResume)"
   ]
  },
  {
   "cell_type": "code",
   "execution_count": 25,
   "metadata": {},
   "outputs": [],
   "source": [
    "import re\n",
    "import string\n",
    "import nltk\n",
    "# nltk.download('stopwords')\n",
    "stopwords = nltk.corpus.stopwords.words('english')\n",
    "\n",
    "def clean_text(text):\n",
    "    #convert text to lowercase\n",
    "    text = text.lower() \n",
    "    #remove any numeric characters\n",
    "    text = ''.join([word for word in text if not word.isdigit()]) \n",
    "\n",
    "#     text = [word for word in text if re.search(\"\\d\", word)== None]\n",
    "    # remove URLs\n",
    "    text = re.sub('http\\S+\\s*', ' ', text)  \n",
    "    # remove RT and cc\n",
    "    text = re.sub('RT|cc', ' ', text)\n",
    "    # remove hashtags\n",
    "    text = re.sub('#\\S+', '', text)  \n",
    "    # remove mentions\n",
    "    text = re.sub('@\\S+', '  ', text)  \n",
    "    #punctuations removal\n",
    "    text = \"\".join([word for word in text if word not in string.punctuation])\n",
    "    text = re.sub(\"\\W\", \" \", str(text))\n",
    "    #stopwords removal\n",
    "    ext = [word for word in text.split() if word not in stopwords]\n",
    "    #replace consecutive non-ASCII characters with a space\n",
    "    text = re.sub(r'[^\\x00-\\x7f]',r' ', text) \n",
    "    #extra whitespace removal\n",
    "    text = re.sub('\\s+', ' ', text)\n",
    "    return text\n",
    "\n",
    "data['cleaned_text'] = data['Resume'].apply(lambda x: clean_text(x))"
   ]
  },
  {
   "cell_type": "code",
   "execution_count": 27,
   "metadata": {},
   "outputs": [
    {
     "data": {
      "text/html": [
       "<div>\n",
       "<style scoped>\n",
       "    .dataframe tbody tr th:only-of-type {\n",
       "        vertical-align: middle;\n",
       "    }\n",
       "\n",
       "    .dataframe tbody tr th {\n",
       "        vertical-align: top;\n",
       "    }\n",
       "\n",
       "    .dataframe thead th {\n",
       "        text-align: right;\n",
       "    }\n",
       "</style>\n",
       "<table border=\"1\" class=\"dataframe\">\n",
       "  <thead>\n",
       "    <tr style=\"text-align: right;\">\n",
       "      <th></th>\n",
       "      <th>Category</th>\n",
       "      <th>Resume</th>\n",
       "      <th>cleaned_text</th>\n",
       "    </tr>\n",
       "  </thead>\n",
       "  <tbody>\n",
       "    <tr>\n",
       "      <th>0</th>\n",
       "      <td>Data Science</td>\n",
       "      <td>Skills * Programming Languages: Python (pandas...</td>\n",
       "      <td>skills programming languages python pandas num...</td>\n",
       "    </tr>\n",
       "    <tr>\n",
       "      <th>1</th>\n",
       "      <td>Data Science</td>\n",
       "      <td>Education Details \\r\\nMay 2013 to May 2017 B.E...</td>\n",
       "      <td>education details may to may be uitrgpv data s...</td>\n",
       "    </tr>\n",
       "    <tr>\n",
       "      <th>2</th>\n",
       "      <td>Data Science</td>\n",
       "      <td>Areas of Interest Deep Learning, Control Syste...</td>\n",
       "      <td>areas of interest deep learning control system...</td>\n",
       "    </tr>\n",
       "    <tr>\n",
       "      <th>3</th>\n",
       "      <td>Data Science</td>\n",
       "      <td>Skills â¢ R â¢ Python â¢ SAP HANA â¢ Table...</td>\n",
       "      <td>skills r python sap hana tableau sap hana sql ...</td>\n",
       "    </tr>\n",
       "    <tr>\n",
       "      <th>4</th>\n",
       "      <td>Data Science</td>\n",
       "      <td>Education Details \\r\\n MCA   YMCAUST,  Faridab...</td>\n",
       "      <td>education details mca ymcaust faridabad haryan...</td>\n",
       "    </tr>\n",
       "    <tr>\n",
       "      <th>...</th>\n",
       "      <td>...</td>\n",
       "      <td>...</td>\n",
       "      <td>...</td>\n",
       "    </tr>\n",
       "    <tr>\n",
       "      <th>957</th>\n",
       "      <td>Testing</td>\n",
       "      <td>Computer Skills: â¢ Proficient in MS office (...</td>\n",
       "      <td>computer skills proficient in ms office word b...</td>\n",
       "    </tr>\n",
       "    <tr>\n",
       "      <th>958</th>\n",
       "      <td>Testing</td>\n",
       "      <td>â Willingness to accept the challenges. â ...</td>\n",
       "      <td>willingness to a ept the challenges positive ...</td>\n",
       "    </tr>\n",
       "    <tr>\n",
       "      <th>959</th>\n",
       "      <td>Testing</td>\n",
       "      <td>PERSONAL SKILLS â¢ Quick learner, â¢ Eagerne...</td>\n",
       "      <td>personal skills quick learner eagerness to lea...</td>\n",
       "    </tr>\n",
       "    <tr>\n",
       "      <th>960</th>\n",
       "      <td>Testing</td>\n",
       "      <td>COMPUTER SKILLS &amp; SOFTWARE KNOWLEDGE MS-Power ...</td>\n",
       "      <td>computer skills software knowledge mspower poi...</td>\n",
       "    </tr>\n",
       "    <tr>\n",
       "      <th>961</th>\n",
       "      <td>Testing</td>\n",
       "      <td>Skill Set OS Windows XP/7/8/8.1/10 Database MY...</td>\n",
       "      <td>skill set os windows xp database mysql sql ser...</td>\n",
       "    </tr>\n",
       "  </tbody>\n",
       "</table>\n",
       "<p>962 rows × 3 columns</p>\n",
       "</div>"
      ],
      "text/plain": [
       "         Category                                             Resume  \\\n",
       "0    Data Science  Skills * Programming Languages: Python (pandas...   \n",
       "1    Data Science  Education Details \\r\\nMay 2013 to May 2017 B.E...   \n",
       "2    Data Science  Areas of Interest Deep Learning, Control Syste...   \n",
       "3    Data Science  Skills â¢ R â¢ Python â¢ SAP HANA â¢ Table...   \n",
       "4    Data Science  Education Details \\r\\n MCA   YMCAUST,  Faridab...   \n",
       "..            ...                                                ...   \n",
       "957       Testing  Computer Skills: â¢ Proficient in MS office (...   \n",
       "958       Testing  â Willingness to accept the challenges. â ...   \n",
       "959       Testing  PERSONAL SKILLS â¢ Quick learner, â¢ Eagerne...   \n",
       "960       Testing  COMPUTER SKILLS & SOFTWARE KNOWLEDGE MS-Power ...   \n",
       "961       Testing  Skill Set OS Windows XP/7/8/8.1/10 Database MY...   \n",
       "\n",
       "                                          cleaned_text  \n",
       "0    skills programming languages python pandas num...  \n",
       "1    education details may to may be uitrgpv data s...  \n",
       "2    areas of interest deep learning control system...  \n",
       "3    skills r python sap hana tableau sap hana sql ...  \n",
       "4    education details mca ymcaust faridabad haryan...  \n",
       "..                                                 ...  \n",
       "957  computer skills proficient in ms office word b...  \n",
       "958   willingness to a ept the challenges positive ...  \n",
       "959  personal skills quick learner eagerness to lea...  \n",
       "960  computer skills software knowledge mspower poi...  \n",
       "961  skill set os windows xp database mysql sql ser...  \n",
       "\n",
       "[962 rows x 3 columns]"
      ]
     },
     "execution_count": 27,
     "metadata": {},
     "output_type": "execute_result"
    }
   ],
   "source": [
    "data\n",
    "for i in range(962): \n",
    "    row1 = data.iloc[i]\n",
    "    row1[2].lower()\n",
    "data    "
   ]
  },
  {
   "cell_type": "code",
   "execution_count": 83,
   "metadata": {},
   "outputs": [],
   "source": [
    "combRes = {}\n",
    "for i in range(962): \n",
    "    row1 = data.iloc[i]\n",
    "    combRes.setdefault(row1[0], '')\n",
    "for i in range(962):\n",
    "    row1 = data.iloc[i]\n",
    "    combRes[row1[0]] += row1[2]   "
   ]
  },
  {
   "cell_type": "code",
   "execution_count": null,
   "metadata": {},
   "outputs": [],
   "source": [
    "s = ['monthscompany','skill','more','less','analysis','using','from','exprience','Maharashtra','january','description','company','~','o','Used:','Project','*','Â','Ã\\x98Â','â\\x9e¢','1','2','3','4','5','6','7','8','9''o','â\\x9c\\x93','application','â\\x97\\x8f','Ã±','as','â\\x96ª','&','Details','with','on','Less','1','than','year','details','for','and', '-', 'the', 'to', 'of', 'is', 'a', 'Exprience', 'Skills', 'Langauges', 'experience', 'langauges', 'skills', 'â\\x80¢', 'in', 'months']"
   ]
  },
  {
   "cell_type": "code",
   "execution_count": 138,
   "metadata": {},
   "outputs": [
    {
     "name": "stdout",
     "output_type": "stream",
     "text": [
      "{'Data Science': ['data', 'learning', 'python', 'science'], 'HR': ['hr', 'management', 'payroll', 'education'], 'Advocate': ['legal', 'law', 'university', 'advocate'], 'Arts': ['arts', 'maharashtra', 'india', 'college'], 'Web Designing': ['project', 'web', 'used', 'html'], 'Mechanical Engineer': ['engineering', 'mechanical', 'design', 'technical'], 'Sales': ['sales', 'team', 'manager', 'marketing'], 'Health and fitness': ['fitness', 'health', 'gym', 'nutrition'], 'Civil Engineer': ['project', 'civil', 'engineer', 'site'], 'Java Developer': ['java', 'developer', 'maharashtra', 'ajax'], 'Business Analyst': ['business', 'test', 'testing', 'management'], 'SAP Developer': ['sap', 'bo', 'project', 'hana'], 'Automation Testing': ['test', 'testing', 'automation', 'qtp'], 'Electrical Engineering': ['electrical', 'maintenance', 'engineering', 'power'], 'Operations Manager': ['team', 'all', 'operations', 'project'], 'Python Developer': ['python', 'pune', 'completed', 'developer'], 'DevOps Engineer': ['project', 'shell', 'devops', 'team'], 'Network Security Engineer': ['network', 'security', 'cisco', 'configuration'], 'PMO': ['management', 'project', 'report', 'responsible'], 'Database': ['database', 'sql', 'server', 'oracle'], 'Hadoop': ['data', 'hadoop', 'hive', 'sqoop'], 'ETL Developer': ['data', 'etl', 'informatica', 'sql'], 'DotNet Developer': ['project', 'net', 'sql', 'database'], 'Blockchain': ['blockchain', 'system', 'ethereum', 'technology'], 'Testing': ['testing', 'test', 'maharashtra', 'windows']}\n"
     ]
    }
   ],
   "source": [
    "from nltk.tokenize import word_tokenize\n",
    "from nltk.probability import FreqDist\n",
    "keywords = {}\n",
    "for i in range(962): \n",
    "    row1 = data.iloc[i]\n",
    "    keywords.setdefault(row1[0], [])\n",
    "for keys in combRes:\n",
    "    tok = word_tokenize(combRes[keys])\n",
    "    fdist = FreqDist()\n",
    "    for word in tok:\n",
    "        if word not in s:\n",
    "            fdist[word] += 1 \n",
    "    flist = dict(fdist)\n",
    "    flist = sorted(flist.items(), key=lambda x: x[1], reverse=True)\n",
    "\n",
    "    flist = flist[:4]\n",
    "    for key in flist:\n",
    "        keywords[keys].append(key[0])\n",
    "print(keywords)        "
   ]
  },
  {
   "cell_type": "code",
   "execution_count": 130,
   "metadata": {},
   "outputs": [
    {
     "name": "stdout",
     "output_type": "stream",
     "text": [
      "data\n",
      "learning\n",
      "python\n",
      "science\n",
      "machine\n",
      "analytics\n"
     ]
    }
   ],
   "source": [
    "tok = word_tokenize(combRes['Data Science'])\n",
    "fdist = FreqDist()\n",
    "for word in tok:\n",
    "    if word not in ['more','less','analysis','using','from','exprience','Maharashtra','January','description','company','~','o','Used:','Project','*','Â','Ã\\x98Â','â\\x9e¢','1','2','3','4','5','6','7','8','9''o','â\\x9c\\x93','application','â\\x97\\x8f','Ã±','as','â\\x96ª','&','Details','with','on','Less','1','than','year','details','for','and', '-', 'the', 'to', 'of', 'is', 'a', 'Exprience', 'Skills', 'Langauges', 'experience', 'langauges', 'skills', 'â\\x80¢', 'in', 'months']:\n",
    "        fdist[word] += 1 \n",
    "flist = dict(fdist)\n",
    "flist = sorted(flist.items(), key=lambda x: x[1], reverse=True)\n",
    "\n",
    "flist = flist[:6]\n",
    "for key in flist:\n",
    "    print(key[0])"
   ]
  },
  {
   "cell_type": "code",
   "execution_count": 69,
   "metadata": {},
   "outputs": [],
   "source": [
    "s = ['exprience','Maharashtra','January','description','company','~','o','Used:','Project','*','Â','Ã\\x98Â','â\\x9e¢','1','2','3','4','5','6','7','8','9''o','â\\x9c\\x93','application','â\\x97\\x8f','Ã±','as','â\\x96ª','&','Details','with','on','Less','1','than','year','Data','data','details','for','and', '-', 'the', 'to', 'of', 'is', 'a', 'Exprience', 'Skills', 'Langauges', 'experience', 'langauges', 'skills', 'â\\x80¢', 'in', 'months']"
   ]
  },
  {
   "cell_type": "code",
   "execution_count": 70,
   "metadata": {},
   "outputs": [
    {
     "name": "stdout",
     "output_type": "stream",
     "text": [
      "{'Data Science': ['learning'], 'HR': ['hr'], 'Advocate': ['legal'], 'Arts': ['arts'], 'Web Designing': ['project'], 'Mechanical Engineer': ['engineering'], 'Sales': ['sales'], 'Health and fitness': ['fitness'], 'Civil Engineer': ['project'], 'Java Developer': ['java'], 'Business Analyst': ['business'], 'SAP Developer': ['sap'], 'Automation Testing': ['test'], 'Electrical Engineering': ['electrical'], 'Operations Manager': ['team'], 'Python Developer': ['python'], 'DevOps Engineer': ['project'], 'Network Security Engineer': ['network'], 'PMO': ['management'], 'Database': ['database'], 'Hadoop': ['hadoop'], 'ETL Developer': ['etl'], 'DotNet Developer': ['project'], 'Blockchain': ['blockchain'], 'Testing': ['testing']}\n"
     ]
    }
   ],
   "source": [
    "from collections import defaultdict\n",
    "df = pd.DataFrame(data)\n",
    "stack = []\n",
    "stack.append('Data Science')\n",
    "cat = dict()\n",
    "for i in range(962): \n",
    "    row1 = data.iloc[i]\n",
    "    cat.setdefault(row1[0], [])\n",
    "for i in range(962):\n",
    "    temp = defaultdict(int)\n",
    "    row1 = data.iloc[i]\n",
    "    if row1[0] == stack[-1]:\n",
    "        cat[row1[0]].append(row1[2])\n",
    "    stack.append(row1[0])    \n",
    "# print(cat)  \n",
    "keywords = {}\n",
    "for i in range(962): \n",
    "    row1 = data.iloc[i]\n",
    "    keywords.setdefault(row1[0], [])\n",
    "w = []\n",
    "for key in cat:\n",
    "    temp = defaultdict(int)\n",
    "    for sub in cat[key]:\n",
    "        for wrd in sub.split():\n",
    "            if wrd not in s:\n",
    "                temp[wrd] += 1\n",
    "    res = max(temp, key=temp.get) \n",
    "    keywords[key].append(str(res))\n",
    "print(keywords)"
   ]
  },
  {
   "cell_type": "code",
   "execution_count": 73,
   "metadata": {},
   "outputs": [],
   "source": []
  },
  {
   "cell_type": "code",
   "execution_count": 76,
   "metadata": {},
   "outputs": [
    {
     "ename": "TypeError",
     "evalue": "'DataFrame' object is not callable",
     "output_type": "error",
     "traceback": [
      "\u001b[0;31m---------------------------------------------------------------------------\u001b[0m",
      "\u001b[0;31mTypeError\u001b[0m                                 Traceback (most recent call last)",
      "\u001b[0;32m<ipython-input-76-415229cdd3f9>\u001b[0m in \u001b[0;36m<module>\u001b[0;34m\u001b[0m\n\u001b[1;32m      8\u001b[0m \u001b[0mcleanedSentences\u001b[0m \u001b[0;34m=\u001b[0m \u001b[0;34m\"\"\u001b[0m\u001b[0;34m\u001b[0m\u001b[0;34m\u001b[0m\u001b[0m\n\u001b[1;32m      9\u001b[0m \u001b[0;32mfor\u001b[0m \u001b[0mi\u001b[0m \u001b[0;32min\u001b[0m \u001b[0mrange\u001b[0m\u001b[0;34m(\u001b[0m\u001b[0;36m0\u001b[0m\u001b[0;34m,\u001b[0m\u001b[0;36m160\u001b[0m\u001b[0;34m)\u001b[0m\u001b[0;34m:\u001b[0m\u001b[0;34m\u001b[0m\u001b[0;34m\u001b[0m\u001b[0m\n\u001b[0;32m---> 10\u001b[0;31m     \u001b[0mcleanedText\u001b[0m \u001b[0;34m=\u001b[0m \u001b[0mdata\u001b[0m\u001b[0;34m(\u001b[0m\u001b[0mSentences\u001b[0m\u001b[0;34m[\u001b[0m\u001b[0mi\u001b[0m\u001b[0;34m]\u001b[0m\u001b[0;34m)\u001b[0m\u001b[0;34m\u001b[0m\u001b[0;34m\u001b[0m\u001b[0m\n\u001b[0m\u001b[1;32m     11\u001b[0m     \u001b[0mcleanedSentences\u001b[0m \u001b[0;34m+=\u001b[0m \u001b[0mcleanedText\u001b[0m\u001b[0;34m\u001b[0m\u001b[0;34m\u001b[0m\u001b[0m\n\u001b[1;32m     12\u001b[0m     \u001b[0mrequiredWords\u001b[0m \u001b[0;34m=\u001b[0m \u001b[0mnltk\u001b[0m\u001b[0;34m.\u001b[0m\u001b[0mword_tokenize\u001b[0m\u001b[0;34m(\u001b[0m\u001b[0mcleanedText\u001b[0m\u001b[0;34m)\u001b[0m\u001b[0;34m\u001b[0m\u001b[0;34m\u001b[0m\u001b[0m\n",
      "\u001b[0;31mTypeError\u001b[0m: 'DataFrame' object is not callable"
     ]
    }
   ],
   "source": []
  },
  {
   "cell_type": "code",
   "execution_count": null,
   "metadata": {},
   "outputs": [],
   "source": []
  },
  {
   "cell_type": "code",
   "execution_count": null,
   "metadata": {},
   "outputs": [],
   "source": []
  }
 ],
 "metadata": {
  "kernelspec": {
   "display_name": "Python 3",
   "language": "python",
   "name": "python3"
  },
  "language_info": {
   "codemirror_mode": {
    "name": "ipython",
    "version": 3
   },
   "file_extension": ".py",
   "mimetype": "text/x-python",
   "name": "python",
   "nbconvert_exporter": "python",
   "pygments_lexer": "ipython3",
   "version": "3.8.5"
  }
 },
 "nbformat": 4,
 "nbformat_minor": 4
}
