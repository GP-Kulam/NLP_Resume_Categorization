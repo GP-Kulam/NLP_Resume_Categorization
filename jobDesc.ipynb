{
 "cells": [
  {
   "cell_type": "code",
   "execution_count": 4,
   "metadata": {},
   "outputs": [
    {
     "name": "stdout",
     "output_type": "stream",
     "text": [
      "       Category                                             Resume\n",
      "0  Data Science  Skills * Programming Languages: Python (pandas...\n",
      "1  Data Science  Education Details \\r\\nMay 2013 to May 2017 B.E...\n",
      "2  Data Science  Areas of Interest Deep Learning, Control Syste...\n",
      "3  Data Science  Skills â¢ R â¢ Python â¢ SAP HANA â¢ Table...\n",
      "4  Data Science  Education Details \\r\\n MCA   YMCAUST,  Faridab...\n"
     ]
    }
   ],
   "source": [
    "\n",
    "import numpy as np\n",
    "import pandas as pd\n",
    "import os\n",
    "import nltk\n",
    "data = pd.read_csv('UpdatedResumeDataSet.csv')\n",
    "data = pd.DataFrame(data)\n",
    "print(data.head())        "
   ]
  },
  {
   "cell_type": "code",
   "execution_count": 5,
   "metadata": {},
   "outputs": [
    {
     "name": "stdout",
     "output_type": "stream",
     "text": [
      "['Data Science' 'HR' 'Advocate' 'Arts' 'Web Designing'\n",
      " 'Mechanical Engineer' 'Sales' 'Health and fitness' 'Civil Engineer'\n",
      " 'Java Developer' 'Business Analyst' 'SAP Developer' 'Automation Testing'\n",
      " 'Electrical Engineering' 'Operations Manager' 'Python Developer'\n",
      " 'DevOps Engineer' 'Network Security Engineer' 'PMO' 'Database' 'Hadoop'\n",
      " 'ETL Developer' 'DotNet Developer' 'Blockchain' 'Testing']\n",
      "\n",
      "Number of datapoints in each categories\n",
      "Java Developer               84\n",
      "Testing                      70\n",
      "DevOps Engineer              55\n",
      "Python Developer             48\n",
      "Web Designing                45\n",
      "HR                           44\n",
      "Hadoop                       42\n",
      "Data Science                 40\n",
      "ETL Developer                40\n",
      "Sales                        40\n",
      "Operations Manager           40\n",
      "Mechanical Engineer          40\n",
      "Blockchain                   40\n",
      "Arts                         36\n",
      "Database                     33\n",
      "Electrical Engineering       30\n",
      "Health and fitness           30\n",
      "PMO                          30\n",
      "DotNet Developer             28\n",
      "Business Analyst             28\n",
      "Automation Testing           26\n",
      "Network Security Engineer    25\n",
      "SAP Developer                24\n",
      "Civil Engineer               24\n",
      "Advocate                     20\n",
      "Name: Category, dtype: int64\n"
     ]
    }
   ],
   "source": [
    "print (data['Category'].unique())\n",
    "print(\"\")\n",
    "print(\"Number of datapoints in each categories\")\n",
    "print(data['Category'].value_counts())"
   ]
  },
  {
   "cell_type": "code",
   "execution_count": 6,
   "metadata": {},
   "outputs": [
    {
     "data": {
      "text/plain": [
       "<AxesSubplot:>"
      ]
     },
     "execution_count": 6,
     "metadata": {},
     "output_type": "execute_result"
    },
    {
     "data": {
      "image/png": "[encoded data removed]",
      "text/plain": [
       "<Figure size 432x288 with 1 Axes>"
      ]
     },
     "metadata": {
      "needs_background": "light"
     },
     "output_type": "display_data"
    }
   ],
   "source": [
    "#Visualization of various categories\n",
    "data['Category'].value_counts(sort=True).nlargest(25).plot.bar()"
   ]
  },
  {
   "cell_type": "markdown",
   "metadata": {},
   "source": [
    "testResume = str(testResume)\n",
    "print(testResume)"
   ]
  },
  {
   "cell_type": "code",
   "execution_count": 7,
   "metadata": {},
   "outputs": [],
   "source": [
    "import re\n",
    "import string\n",
    "import nltk\n",
    "# nltk.download('stopwords')\n",
    "stopwords = nltk.corpus.stopwords.words('english')\n",
    "\n",
    "def clean_text(text):\n",
    "    #convert text to lowercase\n",
    "    text = text.lower() \n",
    "    #remove any numeric characters\n",
    "    text = ''.join([word for word in text if not word.isdigit()]) \n",
    "\n",
    "#     text = [word for word in text if re.search(\"\\d\", word)== None]\n",
    "    # remove URLs\n",
    "    text = re.sub('http\\S+\\s*', ' ', text)  \n",
    "    # remove RT and cc\n",
    "    text = re.sub('RT|cc', ' ', text)\n",
    "    # remove hashtags\n",
    "    text = re.sub('#\\S+', '', text)  \n",
    "    # remove mentions\n",
    "    text = re.sub('@\\S+', '  ', text)  \n",
    "    #punctuations removal\n",
    "    text = \"\".join([word for word in text if word not in string.punctuation])\n",
    "    text = re.sub(\"\\W\", \" \", str(text))\n",
    "    #stopwords removal\n",
    "    ext = [word for word in text.split() if word not in stopwords]\n",
    "    #replace consecutive non-ASCII characters with a space\n",
    "    text = re.sub(r'[^\\x00-\\x7f]',r' ', text) \n",
    "    #extra whitespace removal\n",
    "    text = re.sub('\\s+', ' ', text)\n",
    "    return text\n",
    "\n",
    "data['cleaned_text'] = data['Resume'].apply(lambda x: clean_text(x))"
   ]
  },
  {
   "cell_type": "code",
   "execution_count": 27,
   "metadata": {},
   "outputs": [
    {
     "data": {
      "text/html": [
       "<div>\n",
       "<style scoped>\n",
       "    .dataframe tbody tr th:only-of-type {\n",
       "        vertical-align: middle;\n",
       "    }\n",
       "\n",
       "    .dataframe tbody tr th {\n",
       "        vertical-align: top;\n",
       "    }\n",
       "\n",
       "    .dataframe thead th {\n",
       "        text-align: right;\n",
       "    }\n",
       "</style>\n",
       "<table border=\"1\" class=\"dataframe\">\n",
       "  <thead>\n",
       "    <tr style=\"text-align: right;\">\n",
       "      <th></th>\n",
       "      <th>Category</th>\n",
       "      <th>Resume</th>\n",
       "      <th>cleaned_text</th>\n",
       "    </tr>\n",
       "  </thead>\n",
       "  <tbody>\n",
       "    <tr>\n",
       "      <th>0</th>\n",
       "      <td>Data Science</td>\n",
       "      <td>Skills * Programming Languages: Python (pandas...</td>\n",
       "      <td>skills programming languages python pandas num...</td>\n",
       "    </tr>\n",
       "    <tr>\n",
       "      <th>1</th>\n",
       "      <td>Data Science</td>\n",
       "      <td>Education Details \\r\\nMay 2013 to May 2017 B.E...</td>\n",
       "      <td>education details may to may be uitrgpv data s...</td>\n",
       "    </tr>\n",
       "    <tr>\n",
       "      <th>2</th>\n",
       "      <td>Data Science</td>\n",
       "      <td>Areas of Interest Deep Learning, Control Syste...</td>\n",
       "      <td>areas of interest deep learning control system...</td>\n",
       "    </tr>\n",
       "    <tr>\n",
       "      <th>3</th>\n",
       "      <td>Data Science</td>\n",
       "      <td>Skills â¢ R â¢ Python â¢ SAP HANA â¢ Table...</td>\n",
       "      <td>skills r python sap hana tableau sap hana sql ...</td>\n",
       "    </tr>\n",
       "    <tr>\n",
       "      <th>4</th>\n",
       "      <td>Data Science</td>\n",
       "      <td>Education Details \\r\\n MCA   YMCAUST,  Faridab...</td>\n",
       "      <td>education details mca ymcaust faridabad haryan...</td>\n",
       "    </tr>\n",
       "    <tr>\n",
       "      <th>...</th>\n",
       "      <td>...</td>\n",
       "      <td>...</td>\n",
       "      <td>...</td>\n",
       "    </tr>\n",
       "    <tr>\n",
       "      <th>957</th>\n",
       "      <td>Testing</td>\n",
       "      <td>Computer Skills: â¢ Proficient in MS office (...</td>\n",
       "      <td>computer skills proficient in ms office word b...</td>\n",
       "    </tr>\n",
       "    <tr>\n",
       "      <th>958</th>\n",
       "      <td>Testing</td>\n",
       "      <td>â Willingness to accept the challenges. â ...</td>\n",
       "      <td>willingness to a ept the challenges positive ...</td>\n",
       "    </tr>\n",
       "    <tr>\n",
       "      <th>959</th>\n",
       "      <td>Testing</td>\n",
       "      <td>PERSONAL SKILLS â¢ Quick learner, â¢ Eagerne...</td>\n",
       "      <td>personal skills quick learner eagerness to lea...</td>\n",
       "    </tr>\n",
       "    <tr>\n",
       "      <th>960</th>\n",
       "      <td>Testing</td>\n",
       "      <td>COMPUTER SKILLS &amp; SOFTWARE KNOWLEDGE MS-Power ...</td>\n",
       "      <td>computer skills software knowledge mspower poi...</td>\n",
       "    </tr>\n",
       "    <tr>\n",
       "      <th>961</th>\n",
       "      <td>Testing</td>\n",
       "      <td>Skill Set OS Windows XP/7/8/8.1/10 Database MY...</td>\n",
       "      <td>skill set os windows xp database mysql sql ser...</td>\n",
       "    </tr>\n",
       "  </tbody>\n",
       "</table>\n",
       "<p>962 rows × 3 columns</p>\n",
       "</div>"
      ],
      "text/plain": [
       "         Category                                             Resume  \\\n",
       "0    Data Science  Skills * Programming Languages: Python (pandas...   \n",
       "1    Data Science  Education Details \\r\\nMay 2013 to May 2017 B.E...   \n",
       "2    Data Science  Areas of Interest Deep Learning, Control Syste...   \n",
       "3    Data Science  Skills â¢ R â¢ Python â¢ SAP HANA â¢ Table...   \n",
       "4    Data Science  Education Details \\r\\n MCA   YMCAUST,  Faridab...   \n",
       "..            ...                                                ...   \n",
       "957       Testing  Computer Skills: â¢ Proficient in MS office (...   \n",
       "958       Testing  â Willingness to accept the challenges. â ...   \n",
       "959       Testing  PERSONAL SKILLS â¢ Quick learner, â¢ Eagerne...   \n",
       "960       Testing  COMPUTER SKILLS & SOFTWARE KNOWLEDGE MS-Power ...   \n",
       "961       Testing  Skill Set OS Windows XP/7/8/8.1/10 Database MY...   \n",
       "\n",
       "                                          cleaned_text  \n",
       "0    skills programming languages python pandas num...  \n",
       "1    education details may to may be uitrgpv data s...  \n",
       "2    areas of interest deep learning control system...  \n",
       "3    skills r python sap hana tableau sap hana sql ...  \n",
       "4    education details mca ymcaust faridabad haryan...  \n",
       "..                                                 ...  \n",
       "957  computer skills proficient in ms office word b...  \n",
       "958   willingness to a ept the challenges positive ...  \n",
       "959  personal skills quick learner eagerness to lea...  \n",
       "960  computer skills software knowledge mspower poi...  \n",
       "961  skill set os windows xp database mysql sql ser...  \n",
       "\n",
       "[962 rows x 3 columns]"
      ]
     },
     "execution_count": 27,
     "metadata": {},
     "output_type": "execute_result"
    }
   ],
   "source": [
    "data\n",
    "for i in range(962): \n",
    "    row1 = data.iloc[i]\n",
    "    row1[2].lower()\n",
    "data    "
   ]
  },
  {
   "cell_type": "code",
   "execution_count": 8,
   "metadata": {},
   "outputs": [],
   "source": [
    "combRes = {}\n",
    "for i in range(962): \n",
    "    row1 = data.iloc[i]\n",
    "    combRes.setdefault(row1[0], '')\n",
    "for i in range(962):\n",
    "    row1 = data.iloc[i]\n",
    "    combRes[row1[0]] += row1[2]   "
   ]
  },
  {
   "cell_type": "code",
   "execution_count": 140,
   "metadata": {},
   "outputs": [],
   "source": [
    "common_english = ['school','processes','managers','time','ability','delivery','billing','operations','reporting','ensure', 'risk','monitor', 'maintain','senior','documentation', 'resource','lt','line','standards','knowledge','distribution','process','per', 'drawing', 'activities','panels', 'panel', 'completed','design', 'equipment', 'cable','plant', 'pvt', 'layout','maintenance', 'operation', 'control','management', 'report', 'responsible','requirement','worked','requirements','universe','team', 'issues','developer', 'users','reports', 'business','bo', 'hana','quality','are','client', 'all','role', 'sales','inspection', 'qaqc','cost', 'training','ltd', 'by','products', 'vendor','customer','technical','project','new','monthscompany','skill','more','less','analysis','using','from','exprience','maharashtra','january','description','company','~','o','used:','project','*','Â','Ã\\x98Â','â\\x9e¢','1','2','3','4','5','6','7','8','9''o','â\\x9c\\x93','application','â\\x97\\x8f','Ã±','as','â\\x96ª','&','details','with','on','less','1','than','year','details','for','and', '-', 'the', 'to', 'of', 'is', 'a', 'exprience', 'skills', 'langauges', 'experience', 'langauges', 'skills', 'â\\x80¢', 'in', 'months','technology','mumbai','managing','state','council','pune','projects','that','at','responsibilities','days', 'development','college', 'british', 'power','education','work', 'june', 'university','india','engineer', 'site', 'engineering', 'i', 'used', 'smart', 'computer', 'system']"
   ]
  },
  {
   "cell_type": "code",
   "execution_count": 141,
   "metadata": {},
   "outputs": [
    {
     "name": "stdout",
     "output_type": "stream",
     "text": [
      "Data Science :  ['data', 'learning', 'python', 'science']\n",
      "HR :  ['hr', 'payroll', 'mba', 'statutory']\n",
      "Advocate :  ['legal', 'law', 'advocate', 'court']\n",
      "Arts :  ['arts', 'music', 'events', 'marketing']\n",
      "Web Designing :  ['web', 'html', 'css', 'bootstrap']\n",
      "Mechanical Engineer :  ['mechanical', 'vendors', 'machine', 'manufacturing']\n",
      "Sales :  ['manager', 'marketing', 'ms', 'office']\n",
      "Health and fitness :  ['fitness', 'health', 'gym', 'nutrition']\n",
      "Civil Engineer :  ['civil', 'construction', 'drawings', 'material']\n",
      "Java Developer :  ['java', 'ajax', 'spring', 'jsp']\n",
      "Business Analyst :  ['test', 'testing', 'functional', 'analyst']\n",
      "SAP Developer :  ['sap', 'data', 'webi', 'bods']\n",
      "Automation Testing :  ['test', 'testing', 'automation', 'qtp']\n",
      "Electrical Engineering :  ['electrical', 'autocad', 'drawings', 'protection']\n",
      "Operations Manager :  ['services', 'ensuring', 'manager', 'job']\n",
      "Python Developer :  ['python', 'internal', 'web', 'mysql']\n",
      "DevOps Engineer :  ['shell', 'devops', 'build', 'mysql']\n",
      "Network Security Engineer :  ['network', 'security', 'cisco', 'configuration']\n",
      "PMO :  ['sla', 'data', 'pmo', 'manage']\n",
      "Database :  ['database', 'sql', 'server', 'oracle']\n",
      "Hadoop :  ['data', 'hadoop', 'hive', 'sqoop']\n",
      "ETL Developer :  ['data', 'etl', 'informatica', 'sql']\n",
      "DotNet Developer :  ['net', 'sql', 'database', 'server']\n",
      "Blockchain :  ['blockchain', 'ethereum', 'mysql', 'java']\n",
      "Testing :  ['testing', 'test', 'windows', 'check']\n"
     ]
    }
   ],
   "source": [
    "from nltk.tokenize import word_tokenize\n",
    "from nltk.probability import FreqDist\n",
    "keywords = {}\n",
    "for i in range(962): \n",
    "    row1 = data.iloc[i]\n",
    "    keywords.setdefault(row1[0], [])\n",
    "for keys in combRes:\n",
    "    tok = word_tokenize(combRes[keys])\n",
    "    fdist = FreqDist()\n",
    "    for word in tok:\n",
    "        if word not in common_english:\n",
    "            fdist[word] += 1 \n",
    "    flist = dict(fdist)\n",
    "    flist = sorted(flist.items(), key=lambda x: x[1], reverse=True)\n",
    "    flist = flist[:4]\n",
    "    for key in flist:\n",
    "        keywords[keys].append(key[0])\n",
    "for key in keywords:\n",
    "    print(key, \": \", keywords[key])"
   ]
  },
  {
   "cell_type": "code",
   "execution_count": 142,
   "metadata": {},
   "outputs": [
    {
     "name": "stdout",
     "output_type": "stream",
     "text": [
      "about me\n",
      "fitness trainer\n",
      "\n",
      "extensive experienceof xx years inleadingclients through exercise routines; evaluating client fitness level and skillset to plan reachable goals; monitoring client through strength trainingand weightlifting; counselingand educatingclients on diet, nutrition, and exercise\n",
      "skilled in creatinga workout plan tailored to client needs; motivating and encouragingclient through positive words while training; ensuringequipment use and physical exercises are performed safely; adjustingclient personalized plans as goals are reached; educating clients on weight lifting and training equipment\n",
      "demonstrating andencouraging correct warm-up and stretching techniques to avoid injury; educating a wide range of clients of all ages based on their fitness capabilities; following-up all health and safety regulations when working with equipment\n",
      "deliveringfitness, weight loss and nutrition programs for youth, teens, adults and senior citizens that are fun, safe, extremely effective and tailored to individual needs/goals; body transformation specialist adept in helping diverse populations achieve their fitness, weight loss and conditioning goals faster than they ever thought possible\n",
      "education\n",
      "ba, bachelor of arts, completed, march 2003\n",
      "\n",
      "abc college\n",
      "\n",
      "ba\n",
      "\n",
      "delhi, delhi\n",
      "\n",
      "work experience\n",
      "march 2004 - april 2016\n",
      "\n",
      "fitness trainer\n",
      "\n",
      "xyz ltd\n",
      "\n",
      "delhi, delhi\n",
      "key result areas:\n",
      "\n",
      "monitor exercising customers and provide fitness assessment and feedback\n",
      "offer personal training and fitness education according to customer’s health needs\n",
      "provide personal training and prescribe workout programs for customers\n",
      "develop workout programs and health promotion programs according to company standards and safe industry practices; assist customers in safe exercising and proper body alignment\n",
      "address customer complaints and questions promptly and professionally\n",
      "refer customers to in-house fitness professionals including spa therapists, exercise physiologists, and health professionals when needed; maintain fitness center clean, safe and organized\n",
      "provide excellent customer services according to company standards\n",
      "report any safety hazards and unsafe practices to management promptly\n",
      "ensure that fitness equipment and tools are maintained in safe and good working conditions\n",
      "instruct correct fitness methods and lifting techniques to minimize the chances of injury\n",
      "conduct fitness classes to meet the physical abilities and interest of customers\n",
      "adhere to operating procedures and regulations of fitness facility\n",
      "report to management in need of fitness equipment maintenance and repair works\n",
      "motivate customers to continue exercises and help make healthy choices\n",
      "key highlights:\n",
      "\n",
      "any existing systems/ processes streamlined???? results obtained????major assignments handled????\n",
      "any unique initiative taken to improve customer satisfaction level???? any major accounts/clients handled???\n",
      "awards/appreciation letters received???? other relevant achievements????\n",
      "april 2011 - september 2014\n",
      "\n",
      "fitness trainer\n",
      "\n",
      "xyz ltd\n",
      "\n",
      "new ashok ngr, delhi\n",
      "key result areas:\n",
      "\n",
      "demonstrated how to carry out various exercises and routines\n",
      "watched clients do exercises and show or tell them correct techniques to minimize injury and improve fitness\n",
      "gave alternative exercises during workouts or classes for different levels of fitness and skill\n",
      "monitored clients’ progress and adapt programs as needed\n",
      "explained and enforce safety rules and regulations on sports, recreational activities, and the use of exercise equipment; gave emergency first aid if needed\n",
      "gave clients information or resources about nutrition, weight control,and lifestyle issues\n",
      "key highlights:\n",
      "\n",
      "any existing systems/ processes streamlined???? results obtained????major assignments handled????\n",
      "any unique initiative taken to improve customer satisfaction level???? any major accounts/clients handled???\n",
      "awards/appreciation letters received???? other relevant achievements????\n",
      "skills\n",
      "computer proficiency\n",
      "ms office – word, excel and powerpoint star3\n",
      "internet applications star3\n",
      "languages\n",
      "english\n",
      "hindi\n",
      "\n",
      "\n"
     ]
    }
   ],
   "source": [
    "with open('fitnessTrainer.txt','r') as file:\n",
    "    resume = file.read()\n",
    "resume = resume.lower()    \n",
    "print(resume)"
   ]
  },
  {
   "cell_type": "code",
   "execution_count": 143,
   "metadata": {},
   "outputs": [
    {
     "name": "stdout",
     "output_type": "stream",
     "text": [
      "This resume can be applicable for 7 jobs\n",
      "1 : PMO\n",
      "2 : Arts\n",
      "3 : Health and fitness\n",
      "4 : Sales\n",
      "5 : HR\n",
      "6 : Operations Manager\n",
      "7 : DotNet Developer\n"
     ]
    }
   ],
   "source": [
    "\n",
    "jobs = set()\n",
    "for key in keywords:\n",
    "    for keywrd in keywords[key]:\n",
    "        if keywrd in resume:\n",
    "            jobs.add(key)\n",
    "print(\"This resume can be applicable for\", len(jobs), \"jobs\")\n",
    "i = 1\n",
    "for x in jobs:\n",
    "    print(i,\":\",x)\n",
    "    i += 1"
   ]
  },
  {
   "cell_type": "code",
   "execution_count": null,
   "metadata": {},
   "outputs": [],
   "source": []
  }
 ],
 "metadata": {
  "kernelspec": {
   "display_name": "Python 3",
   "language": "python",
   "name": "python3"
  },
  "language_info": {
   "codemirror_mode": {
    "name": "ipython",
    "version": 3
   },
   "file_extension": ".py",
   "mimetype": "text/x-python",
   "name": "python",
   "nbconvert_exporter": "python",
   "pygments_lexer": "ipython3",
   "version": "3.8.5"
  }
 },
 "nbformat": 4,
 "nbformat_minor": 4
}
